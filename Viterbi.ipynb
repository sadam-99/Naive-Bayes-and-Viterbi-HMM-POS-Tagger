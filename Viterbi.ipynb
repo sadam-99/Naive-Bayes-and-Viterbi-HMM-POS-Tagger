{
 "cells": [
  {
   "cell_type": "code",
   "execution_count": 4,
   "metadata": {
    "ExecuteTime": {
     "end_time": "2020-10-09T03:32:09.671798Z",
     "start_time": "2020-10-09T03:32:09.509054Z"
    }
   },
   "outputs": [
    {
     "data": {
      "text/plain": [
       "4"
      ]
     },
     "execution_count": 4,
     "metadata": {},
     "output_type": "execute_result"
    }
   ],
   "source": [
    "import numpy as np\n",
    "A =np.array([1, 2, 3, 4, 5]) \n",
    "np.argmax(A)\n"
   ]
  },
  {
   "cell_type": "code",
   "execution_count": 5,
   "metadata": {
    "ExecuteTime": {
     "end_time": "2020-10-06T06:48:49.428389Z",
     "start_time": "2020-10-06T06:48:49.410988Z"
    }
   },
   "outputs": [
    {
     "name": "stdout",
     "output_type": "stream",
     "text": [
      "8\n",
      "7\n",
      "6\n",
      "5\n",
      "4\n",
      "3\n",
      "2\n",
      "1\n"
     ]
    }
   ],
   "source": [
    "for n in range(8, 0, -1):\n",
    "    print(n)"
   ]
  },
  {
   "cell_type": "code",
   "execution_count": 8,
   "metadata": {
    "ExecuteTime": {
     "end_time": "2020-10-06T07:02:27.336538Z",
     "start_time": "2020-10-06T07:02:27.326851Z"
    }
   },
   "outputs": [
    {
     "name": "stdout",
     "output_type": "stream",
     "text": [
      "0 0\n",
      "0 1\n",
      "0 2\n",
      "0 3\n",
      "0 4\n",
      "1 0\n",
      "1 1\n",
      "1 2\n",
      "1 3\n",
      "1 4\n",
      "2 0\n",
      "2 1\n",
      "2 2\n",
      "2 3\n",
      "2 4\n",
      "3 0\n",
      "3 1\n",
      "3 2\n",
      "3 3\n",
      "3 4\n",
      "4 0\n",
      "4 1\n",
      "4 2\n",
      "4 3\n",
      "4 4\n",
      "5 0\n",
      "5 1\n",
      "5 2\n",
      "5 3\n",
      "5 4\n",
      "6 0\n",
      "6 1\n",
      "6 2\n",
      "6 3\n",
      "6 4\n"
     ]
    }
   ],
   "source": [
    " for i, j in np.ndindex((7, 5)):\n",
    "        print(i, j)"
   ]
  },
  {
   "cell_type": "code",
   "execution_count": 5,
   "metadata": {
    "ExecuteTime": {
     "end_time": "2020-10-09T03:32:13.000796Z",
     "start_time": "2020-10-09T03:32:12.968781Z"
    }
   },
   "outputs": [
    {
     "data": {
      "text/plain": [
       "array([0, 1, 5, 6, 4], dtype=int64)"
      ]
     },
     "execution_count": 5,
     "metadata": {},
     "output_type": "execute_result"
    }
   ],
   "source": [
    "D= np.array([[8.85440000e-06, 0.00000000e+00, 0.00000000e+00, 2.48613983e-17,\n",
    "        0.00000000e+00],\n",
    "       [0.00000000e+00, 3.00406859e-08, 0.00000000e+00, 0.00000000e+00,\n",
    "        0.00000000e+00],\n",
    "       [0.00000000e+00, 2.23130880e-13, 1.60852733e-11, 0.00000000e+00,\n",
    "        1.01707158e-20],\n",
    "       [0.00000000e+00, 0.00000000e+00, 5.10691660e-15, 0.00000000e+00,\n",
    "        0.00000000e+00],\n",
    "       [0.00000000e+00, 1.03419392e-10, 5.59958385e-15, 0.00000000e+00,\n",
    "        2.01357071e-15],\n",
    "       [0.00000000e+00, 0.00000000e+00, 5.32840899e-11, 0.00000000e+00,\n",
    "        0.00000000e+00],\n",
    "       [0.00000000e+00, 0.00000000e+00, 0.00000000e+00, 1.81619925e-12,\n",
    "        0.00000000e+00]])\n",
    "\n",
    "D.shape\n",
    "# T = 0, 1, 2, 3, 4\n",
    "np.argmax(D, axis=0)"
   ]
  },
  {
   "cell_type": "code",
   "execution_count": 13,
   "metadata": {
    "ExecuteTime": {
     "end_time": "2020-10-08T08:48:51.855353Z",
     "start_time": "2020-10-08T08:48:51.818904Z"
    }
   },
   "outputs": [
    {
     "data": {
      "text/plain": [
       "array([0.00000000e+00, 0.00000000e+00, 1.60852733e-11, 5.10691660e-15,\n",
       "       5.59958385e-15, 5.32840899e-11, 0.00000000e+00])"
      ]
     },
     "execution_count": 13,
     "metadata": {},
     "output_type": "execute_result"
    }
   ],
   "source": [
    "D[:,2]"
   ]
  },
  {
   "cell_type": "code",
   "execution_count": 9,
   "metadata": {
    "ExecuteTime": {
     "end_time": "2020-10-08T08:43:23.236258Z",
     "start_time": "2020-10-08T08:43:23.216294Z"
    }
   },
   "outputs": [
    {
     "data": {
      "text/plain": [
       "array([0, 0, 1], dtype=int64)"
      ]
     },
     "execution_count": 9,
     "metadata": {},
     "output_type": "execute_result"
    }
   ],
   "source": [
    "x = np.array([[4,2,9], [1,0,46]])\n",
    "index_array = np.argmax(x, axis=0)\n",
    "index_array"
   ]
  },
  {
   "cell_type": "code",
   "execution_count": 28,
   "metadata": {
    "ExecuteTime": {
     "end_time": "2020-10-08T09:28:55.089809Z",
     "start_time": "2020-10-08T09:28:55.065629Z"
    }
   },
   "outputs": [
    {
     "name": "stdout",
     "output_type": "stream",
     "text": [
      "0 0\n",
      "8.8544e-06\n",
      "1 1\n",
      "3.00406859e-08\n",
      "2 2\n",
      "1.60852733e-11\n",
      "3 6\n",
      "1.81619925e-12\n",
      "4 4\n",
      "2.01357071e-15\n"
     ]
    },
    {
     "data": {
      "text/plain": [
       "[8.8544e-06, 3.00406859e-08, 1.60852733e-11, 1.81619925e-12, 2.01357071e-15]"
      ]
     },
     "execution_count": 28,
     "metadata": {},
     "output_type": "execute_result"
    }
   ],
   "source": [
    "max_ind = np.array([0, 1, 2, 6, 4])\n",
    "prob = []\n",
    "for i, j in enumerate(max_ind):\n",
    "    print(i, j)\n",
    "    print(D[j, i])\n",
    "    prob.append(D[j, i])\n",
    "#     prob = prob * D[i, j]\n",
    "prob"
   ]
  },
  {
   "cell_type": "code",
   "execution_count": 18,
   "metadata": {
    "ExecuteTime": {
     "end_time": "2020-10-06T07:12:53.323198Z",
     "start_time": "2020-10-06T07:12:53.309698Z"
    }
   },
   "outputs": [
    {
     "name": "stdout",
     "output_type": "stream",
     "text": [
      "0 0\n",
      "1 1\n",
      "2 2\n",
      "3 6\n",
      "4 4\n"
     ]
    }
   ],
   "source": [
    "for i, j in enumerate(max_ind):\n",
    "    print(i, j)"
   ]
  },
  {
   "cell_type": "markdown",
   "metadata": {},
   "source": [
    " np.ndindex((7, 5))"
   ]
  },
  {
   "cell_type": "code",
   "execution_count": null,
   "metadata": {},
   "outputs": [],
   "source": [
    "max = [Tag1- > tag2 ->]"
   ]
  },
  {
   "cell_type": "code",
   "execution_count": 6,
   "metadata": {
    "ExecuteTime": {
     "end_time": "2020-10-09T03:33:42.031226Z",
     "start_time": "2020-10-09T03:33:42.025229Z"
    }
   },
   "outputs": [
    {
     "name": "stdout",
     "output_type": "stream",
     "text": [
      "3\n",
      "2\n",
      "1\n"
     ]
    }
   ],
   "source": [
    "for n in range(3, 0, -1):\n",
    "        print(n)"
   ]
  },
  {
   "cell_type": "code",
   "execution_count": 9,
   "metadata": {
    "ExecuteTime": {
     "end_time": "2020-10-09T03:34:10.540439Z",
     "start_time": "2020-10-09T03:34:10.530788Z"
    }
   },
   "outputs": [
    {
     "name": "stdout",
     "output_type": "stream",
     "text": [
      "0\n",
      "1\n",
      "2\n"
     ]
    }
   ],
   "source": [
    "for n in range(0, 3, 1):\n",
    "        print(n)"
   ]
  },
  {
   "cell_type": "code",
   "execution_count": 11,
   "metadata": {
    "ExecuteTime": {
     "end_time": "2020-10-09T04:41:10.400577Z",
     "start_time": "2020-10-09T04:41:10.388869Z"
    }
   },
   "outputs": [
    {
     "name": "stdout",
     "output_type": "stream",
     "text": [
      "0 shivam\n",
      "1 ksh\n"
     ]
    }
   ],
   "source": [
    "A = [\"shivam\", \"ksh\"]\n",
    "for i, j in enumerate(A):\n",
    "    print(i, j)"
   ]
  },
  {
   "cell_type": "code",
   "execution_count": 16,
   "metadata": {
    "ExecuteTime": {
     "end_time": "2020-10-09T06:32:53.542408Z",
     "start_time": "2020-10-09T06:32:53.521941Z"
    }
   },
   "outputs": [
    {
     "name": "stdout",
     "output_type": "stream",
     "text": [
      "1\n",
      "9\n",
      "76\n",
      "2\n",
      "3\n",
      "4\n",
      "5\n",
      "6\n"
     ]
    }
   ],
   "source": [
    "TAGS_IDX = np.array([1, 9, 76, 2, 3, 4, 5, 6])\n",
    "for i in np.nditer(TAGS_IDX):\n",
    "    print(i)"
   ]
  },
  {
   "cell_type": "code",
   "execution_count": null,
   "metadata": {},
   "outputs": [],
   "source": [
    "# 1nd Approach Complex Way: But This wrong I Guess Need to Confirm\n",
    "TAGS_PROBS=np.ones(Sequence_Count)\n",
    "for ix, iy in np.ndindex(Viterbi_Matrix.shape):\n",
    "    if(ix==0):\n",
    "     TAGS_PROBS[iy]=(Viterbi_Matrix[ix,iy])\n",
    "    else:\n",
    "        if(Viterbi_Matrix[ix,iy]>TAGS_PROBS[iy]):\n",
    "            TAGS_PROBS[iy]=Viterbi_Matrix[ix,iy]\n"
   ]
  },
  {
   "cell_type": "code",
   "execution_count": 18,
   "metadata": {
    "ExecuteTime": {
     "end_time": "2020-10-09T06:55:15.837923Z",
     "start_time": "2020-10-09T06:55:15.819884Z"
    }
   },
   "outputs": [],
   "source": [
    "# Max_Indices can also be replaced simply By but Need to Cross Check\n",
    "MAX_POS = np.argmax(Viterbi_Matrix, axis=0)"
   ]
  },
  {
   "cell_type": "code",
   "execution_count": 15,
   "metadata": {
    "ExecuteTime": {
     "end_time": "2020-10-09T06:31:13.010882Z",
     "start_time": "2020-10-09T06:31:12.994224Z"
    }
   },
   "outputs": [
    {
     "data": {
      "text/plain": [
       "6"
      ]
     },
     "execution_count": 15,
     "metadata": {},
     "output_type": "execute_result"
    }
   ],
   "source": [
    "len(TAGS_IDX)"
   ]
  },
  {
   "cell_type": "code",
   "execution_count": 23,
   "metadata": {
    "ExecuteTime": {
     "end_time": "2020-10-09T08:09:58.449663Z",
     "start_time": "2020-10-09T08:09:58.424055Z"
    }
   },
   "outputs": [
    {
     "name": "stdout",
     "output_type": "stream",
     "text": [
      "NNP\n",
      ",\n",
      "RB\n",
      "JJ\n",
      "NN\n",
      ",\n",
      "VBZ\n",
      "RB\n",
      "DT\n",
      "NN\n",
      "POS\n",
      "JJ\n",
      "NN\n",
      ".\n"
     ]
    }
   ],
   "source": [
    "DIC = {('Brainpower 2', 'NNP'): 0.0008016032064128256, (', 3', ','): 0.998959958398336, ('not 4', 'RB'): 0.0674729471674093, ('physical 5', 'JJ'): 0.0020655822359927703, ('plant 6', 'NN'): 0.2080706179066835, (', 7', ','): 0.998959958398336, ('is 8', 'VBZ'): 0.33689839572192515, ('now 9', 'RB'): 0.03500954805856143, ('a 10', 'DT'): 0.2767615714967393, ('firm 11', 'NN'): 0.0009007386056566384, (\"'s 12\", 'POS'): 0.9446308724832215, ('chief 13', 'JJ'): 0.003356571133488252, ('asset 14', 'NN'): 0.0005404431633939831, ('. 15', '.'): 0.9920424403183024}\n",
    "for k in list(DIC.keys()):\n",
    "    print(k[1])"
   ]
  }
 ],
 "metadata": {
  "kernelspec": {
   "display_name": "Python 3",
   "language": "python",
   "name": "python3"
  },
  "language_info": {
   "codemirror_mode": {
    "name": "ipython",
    "version": 3
   },
   "file_extension": ".py",
   "mimetype": "text/x-python",
   "name": "python",
   "nbconvert_exporter": "python",
   "pygments_lexer": "ipython3",
   "version": "3.7.4"
  }
 },
 "nbformat": 4,
 "nbformat_minor": 2
}
